{
 "cells": [
  {
   "cell_type": "code",
   "execution_count": 1,
   "id": "459b7508-8c53-4fd5-b664-29339663fd47",
   "metadata": {},
   "outputs": [],
   "source": [
    "#Question1"
   ]
  },
  {
   "cell_type": "code",
   "execution_count": null,
   "id": "15f6b315-85aa-4f50-b382-e876f7f3b7fd",
   "metadata": {},
   "outputs": [],
   "source": [
    "APIs are mechanisms that enable two software components to communicate with each other using a set of definitions and protocols.\n",
    "\n",
    "In everyday life, APIs power various experiences, from social media interactions to real-time weather data access. Public API examples include social media bots, third-party login, e-commerce transactions, and weather apps."
   ]
  },
  {
   "cell_type": "code",
   "execution_count": 3,
   "id": "a62d1f20-900a-45c7-9a7b-2f03755f362e",
   "metadata": {},
   "outputs": [],
   "source": [
    "#Question2"
   ]
  },
  {
   "cell_type": "code",
   "execution_count": null,
   "id": "d58e51e3-5708-4c34-8f68-735c781cf8d3",
   "metadata": {},
   "outputs": [],
   "source": [
    "Using an API gateway can provide several advantages, but there are also some drawbacks and challenges. For instance, you may experience increased complexity and overhead of your system, as well as higher costs and fees for the usage and maintenance of the service"
   ]
  },
  {
   "cell_type": "code",
   "execution_count": 4,
   "id": "3595107b-2b66-4521-870c-496a3d5bb2fd",
   "metadata": {},
   "outputs": [],
   "source": [
    "#Question3"
   ]
  },
  {
   "cell_type": "code",
   "execution_count": null,
   "id": "1c0a2769-e5fb-4677-b515-8f709a7dbb24",
   "metadata": {},
   "outputs": [],
   "source": [
    "Web API is an API as the name suggests, it can be accessed over the web using the HTTP protocol. It is a framework that helps you to create and develop HTTP based RESTFUL services. The web API can be developed by using different technologies such as java, ASP.NET, etc. \n",
    "\n",
    "\n",
    "APIs allow applications to communicate, while web services allow machines to communicate. Web Services requires a network connection while APIs may or may not require a network for their operability. Web services require SOAP and XML, which are no longer the most popular standard."
   ]
  },
  {
   "cell_type": "code",
   "execution_count": 5,
   "id": "34f0cfb7-2d6f-4a83-9925-2686e74c6b1d",
   "metadata": {},
   "outputs": [],
   "source": [
    "#Question4"
   ]
  },
  {
   "cell_type": "code",
   "execution_count": null,
   "id": "aa2adf9c-9b64-4bd6-bde9-bd307821e533",
   "metadata": {},
   "outputs": [],
   "source": [
    "The SOAP approach is highly structured and uses XML data format. REST is more flexible and allows applications to exchange data in multiple formats.\n",
    "\n",
    "\n"
   ]
  }
 ],
 "metadata": {
  "kernelspec": {
   "display_name": "Python 3 (ipykernel)",
   "language": "python",
   "name": "python3"
  },
  "language_info": {
   "codemirror_mode": {
    "name": "ipython",
    "version": 3
   },
   "file_extension": ".py",
   "mimetype": "text/x-python",
   "name": "python",
   "nbconvert_exporter": "python",
   "pygments_lexer": "ipython3",
   "version": "3.10.8"
  }
 },
 "nbformat": 4,
 "nbformat_minor": 5
}
